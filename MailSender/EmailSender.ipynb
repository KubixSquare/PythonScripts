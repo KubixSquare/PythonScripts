{
 "cells": [
  {
   "cell_type": "code",
   "execution_count": 1,
   "metadata": {},
   "outputs": [],
   "source": [
    "import pandas as pd\n",
    "import smtplib\n",
    "from email import encoders\n",
    "\n",
    "from email.mime.base import MIMEBase\n",
    "from email.mime.multipart import MIMEMultipart\n",
    "from email.mime.text import MIMEText\n"
   ]
  },
  {
   "cell_type": "code",
   "execution_count": 2,
   "metadata": {},
   "outputs": [
    {
     "data": {
      "text/html": [
       "<div>\n",
       "<style scoped>\n",
       "    .dataframe tbody tr th:only-of-type {\n",
       "        vertical-align: middle;\n",
       "    }\n",
       "\n",
       "    .dataframe tbody tr th {\n",
       "        vertical-align: top;\n",
       "    }\n",
       "\n",
       "    .dataframe thead th {\n",
       "        text-align: right;\n",
       "    }\n",
       "</style>\n",
       "<table border=\"1\" class=\"dataframe\">\n",
       "  <thead>\n",
       "    <tr style=\"text-align: right;\">\n",
       "      <th></th>\n",
       "      <th>Unnamed: 0</th>\n",
       "      <th>firstname</th>\n",
       "      <th>lastname</th>\n",
       "      <th>name</th>\n",
       "      <th>email</th>\n",
       "      <th>FileName</th>\n",
       "    </tr>\n",
       "  </thead>\n",
       "  <tbody>\n",
       "    <tr>\n",
       "      <th>0</th>\n",
       "      <td>0</td>\n",
       "      <td>Jetso</td>\n",
       "      <td>Analin</td>\n",
       "      <td>Jetso Analin</td>\n",
       "      <td>jetyjetso+AEA-gmail.com</td>\n",
       "      <td>jetsoanalin.pdf</td>\n",
       "    </tr>\n",
       "  </tbody>\n",
       "</table>\n",
       "</div>"
      ],
      "text/plain": [
       "   Unnamed: 0 firstname lastname          name                    email  \\\n",
       "0           0     Jetso   Analin  Jetso Analin  jetyjetso+AEA-gmail.com   \n",
       "\n",
       "          FileName  \n",
       "0  jetsoanalin.pdf  "
      ]
     },
     "execution_count": 2,
     "metadata": {},
     "output_type": "execute_result"
    }
   ],
   "source": [
    "# Importing all the Datas from CSV\n",
    "data = pd.read_csv('test.csv')\n",
    "data"
   ]
  },
  {
   "cell_type": "code",
   "execution_count": 4,
   "metadata": {
    "scrolled": false
   },
   "outputs": [
    {
     "name": "stdout",
     "output_type": "stream",
     "text": [
      "Something went wrong...\n",
      "1/1 - Jetso Analin - jetyjetso@gmail.com - jetsoanalin.pdf\n",
      "Done\n"
     ]
    }
   ],
   "source": [
    "for i in range(len(data)):\n",
    "    name = data.loc[i]['name'].title()\n",
    "    name = name.title().strip() # Name will be recieved in this step\n",
    "    email = data.loc[i]['email']\n",
    "    email = email.strip()\n",
    "    email = email.replace('+AEA-','@') # Email will be cleaned in this step\n",
    "\n",
    "    # Make sure attachment is in the same root folder\n",
    "    filename = data.loc[i]['FileName']\n",
    "    filename = filename.strip()\n",
    "    filename = filename.replace('+AF8-','_') # Filename will be cleaned in this step\n",
    "\n",
    "\n",
    "    # Make sure you have set access to low secure apps in gmail settings\n",
    "    gmail_user = 'your gmail id'\n",
    "    gmail_password = 'your password'\n",
    "\n",
    "    sent_from = gmail_user\n",
    "    to = email\n",
    "    \n",
    "    message = MIMEMultipart()\n",
    "    message[\"From\"] = sent_from\n",
    "    message[\"To\"] = to\n",
    "    message[\"Subject\"] = f\"KubixSquare Welcome Letter\"\n",
    "\n",
    "    # Add body to email\n",
    "    body = \"Hi \"+name+\",\\n\\nThankyou for being a part of KubixSquare family, As a valued member of my team, I would like to take the opportunity to thank you for your hard work and dedication. \\n\\nThanks & Regards \\nJetso Analin\\nFounder - KubixSquare\"\n",
    "    message.attach(MIMEText(body, \"plain\"))\n",
    "\n",
    "    part = MIMEBase('application', \"octet-stream\")\n",
    "    part.set_payload(open(filename, \"rb\").read())\n",
    "    encoders.encode_base64(part)\n",
    "\n",
    "    part.add_header('Content-Disposition', 'attachment; filename='+filename)\n",
    "\n",
    "    message.attach(part)\n",
    "\n",
    "\n",
    "    try:\n",
    "        server = smtplib.SMTP_SSL('smtp.gmail.com', 465)\n",
    "        server.ehlo()\n",
    "        server.login(gmail_user, gmail_password)\n",
    "        # server.sendmail(sent_from, to, message)\n",
    "        server.send_message(message)\n",
    "        server.close()\n",
    "\n",
    "        print ('Email sent!')\n",
    "    except:\n",
    "        print ('Something went wrong...')\n",
    "\n",
    "    \n",
    "\n",
    "    print('{}/{} - {}'.format(i+1, len(data), name + ' - ' + email + ' - ' + filename))\n",
    "        \n",
    "print('Done')"
   ]
  },
  {
   "cell_type": "code",
   "execution_count": null,
   "metadata": {},
   "outputs": [],
   "source": []
  },
  {
   "cell_type": "code",
   "execution_count": null,
   "metadata": {},
   "outputs": [],
   "source": []
  }
 ],
 "metadata": {
  "kernelspec": {
   "display_name": "Python 3",
   "language": "python",
   "name": "python3"
  },
  "language_info": {
   "codemirror_mode": {
    "name": "ipython",
    "version": 3
   },
   "file_extension": ".py",
   "mimetype": "text/x-python",
   "name": "python",
   "nbconvert_exporter": "python",
   "pygments_lexer": "ipython3",
   "version": "3.8.2"
  }
 },
 "nbformat": 4,
 "nbformat_minor": 2
}
